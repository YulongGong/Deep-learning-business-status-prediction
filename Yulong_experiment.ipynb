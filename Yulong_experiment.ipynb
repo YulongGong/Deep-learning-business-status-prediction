{
 "cells": [
  {
   "cell_type": "markdown",
   "id": "bbfb95ee",
   "metadata": {},
   "source": [
    "## Import"
   ]
  },
  {
   "cell_type": "code",
   "execution_count": 1,
   "id": "7b34bc39",
   "metadata": {},
   "outputs": [
    {
     "name": "stdout",
     "output_type": "stream",
     "text": [
      "Requirement already satisfied: imblearn in /opt/conda/lib/python3.7/site-packages (0.0)\n",
      "Requirement already satisfied: imbalanced-learn in /opt/conda/lib/python3.7/site-packages (from imblearn) (0.8.0)\n",
      "Requirement already satisfied: scipy>=0.19.1 in /opt/conda/lib/python3.7/site-packages (from imbalanced-learn->imblearn) (1.7.0)\n",
      "Requirement already satisfied: numpy>=1.13.3 in /opt/conda/lib/python3.7/site-packages (from imbalanced-learn->imblearn) (1.19.5)\n",
      "Requirement already satisfied: joblib>=0.11 in /opt/conda/lib/python3.7/site-packages (from imbalanced-learn->imblearn) (1.0.1)\n",
      "Requirement already satisfied: scikit-learn>=0.24 in /opt/conda/lib/python3.7/site-packages (from imbalanced-learn->imblearn) (0.24.2)\n",
      "Requirement already satisfied: threadpoolctl>=2.0.0 in /opt/conda/lib/python3.7/site-packages (from scikit-learn>=0.24->imbalanced-learn->imblearn) (2.2.0)\n"
     ]
    }
   ],
   "source": [
    "! pip install imblearn"
   ]
  },
  {
   "cell_type": "code",
   "execution_count": 2,
   "id": "beb5b432",
   "metadata": {},
   "outputs": [
    {
     "name": "stdout",
     "output_type": "stream",
     "text": [
      "Requirement already satisfied: tensorflow in /opt/conda/lib/python3.7/site-packages (2.6.0)\n",
      "Requirement already satisfied: tensorboard~=2.6 in /opt/conda/lib/python3.7/site-packages (from tensorflow) (2.6.0)\n",
      "Requirement already satisfied: gast==0.4.0 in /opt/conda/lib/python3.7/site-packages (from tensorflow) (0.4.0)\n",
      "Requirement already satisfied: astunparse~=1.6.3 in /opt/conda/lib/python3.7/site-packages (from tensorflow) (1.6.3)\n",
      "Requirement already satisfied: protobuf>=3.9.2 in /opt/conda/lib/python3.7/site-packages (from tensorflow) (3.16.0)\n",
      "Requirement already satisfied: termcolor~=1.1.0 in /opt/conda/lib/python3.7/site-packages (from tensorflow) (1.1.0)\n",
      "Requirement already satisfied: clang~=5.0 in /opt/conda/lib/python3.7/site-packages (from tensorflow) (5.0)\n",
      "Requirement already satisfied: absl-py~=0.10 in /opt/conda/lib/python3.7/site-packages (from tensorflow) (0.13.0)\n",
      "Requirement already satisfied: numpy~=1.19.2 in /opt/conda/lib/python3.7/site-packages (from tensorflow) (1.19.5)\n",
      "Requirement already satisfied: google-pasta~=0.2 in /opt/conda/lib/python3.7/site-packages (from tensorflow) (0.2.0)\n",
      "Requirement already satisfied: wrapt~=1.12.1 in /opt/conda/lib/python3.7/site-packages (from tensorflow) (1.12.1)\n",
      "Requirement already satisfied: h5py~=3.1.0 in /opt/conda/lib/python3.7/site-packages (from tensorflow) (3.1.0)\n",
      "Requirement already satisfied: grpcio<2.0,>=1.37.0 in /opt/conda/lib/python3.7/site-packages (from tensorflow) (1.38.1)\n",
      "Requirement already satisfied: typing-extensions~=3.7.4 in /opt/conda/lib/python3.7/site-packages (from tensorflow) (3.7.4.3)\n",
      "Requirement already satisfied: keras~=2.6 in /opt/conda/lib/python3.7/site-packages (from tensorflow) (2.6.0)\n",
      "Requirement already satisfied: opt-einsum~=3.3.0 in /opt/conda/lib/python3.7/site-packages (from tensorflow) (3.3.0)\n",
      "Requirement already satisfied: tensorflow-estimator~=2.6 in /opt/conda/lib/python3.7/site-packages (from tensorflow) (2.6.0)\n",
      "Requirement already satisfied: flatbuffers~=1.12.0 in /opt/conda/lib/python3.7/site-packages (from tensorflow) (1.12)\n",
      "Requirement already satisfied: keras-preprocessing~=1.1.2 in /opt/conda/lib/python3.7/site-packages (from tensorflow) (1.1.2)\n",
      "Requirement already satisfied: six~=1.15.0 in /opt/conda/lib/python3.7/site-packages (from tensorflow) (1.15.0)\n",
      "Requirement already satisfied: wheel~=0.35 in /opt/conda/lib/python3.7/site-packages (from tensorflow) (0.36.2)\n",
      "Requirement already satisfied: cached-property in /opt/conda/lib/python3.7/site-packages (from h5py~=3.1.0->tensorflow) (1.5.2)\n",
      "Requirement already satisfied: tensorboard-plugin-wit>=1.6.0 in /opt/conda/lib/python3.7/site-packages (from tensorboard~=2.6->tensorflow) (1.8.0)\n",
      "Requirement already satisfied: google-auth-oauthlib<0.5,>=0.4.1 in /opt/conda/lib/python3.7/site-packages (from tensorboard~=2.6->tensorflow) (0.4.4)\n",
      "Requirement already satisfied: google-auth<2,>=1.6.3 in /opt/conda/lib/python3.7/site-packages (from tensorboard~=2.6->tensorflow) (1.32.1)\n",
      "Requirement already satisfied: setuptools>=41.0.0 in /opt/conda/lib/python3.7/site-packages (from tensorboard~=2.6->tensorflow) (49.6.0.post20210108)\n",
      "Requirement already satisfied: markdown>=2.6.8 in /opt/conda/lib/python3.7/site-packages (from tensorboard~=2.6->tensorflow) (3.3.4)\n",
      "Requirement already satisfied: werkzeug>=0.11.15 in /opt/conda/lib/python3.7/site-packages (from tensorboard~=2.6->tensorflow) (2.0.1)\n",
      "Requirement already satisfied: requests<3,>=2.21.0 in /opt/conda/lib/python3.7/site-packages (from tensorboard~=2.6->tensorflow) (2.25.1)\n",
      "Requirement already satisfied: tensorboard-data-server<0.7.0,>=0.6.0 in /opt/conda/lib/python3.7/site-packages (from tensorboard~=2.6->tensorflow) (0.6.1)\n",
      "Requirement already satisfied: rsa<5,>=3.1.4 in /opt/conda/lib/python3.7/site-packages (from google-auth<2,>=1.6.3->tensorboard~=2.6->tensorflow) (4.7.2)\n",
      "Requirement already satisfied: pyasn1-modules>=0.2.1 in /opt/conda/lib/python3.7/site-packages (from google-auth<2,>=1.6.3->tensorboard~=2.6->tensorflow) (0.2.7)\n",
      "Requirement already satisfied: cachetools<5.0,>=2.0.0 in /opt/conda/lib/python3.7/site-packages (from google-auth<2,>=1.6.3->tensorboard~=2.6->tensorflow) (4.2.2)\n",
      "Requirement already satisfied: requests-oauthlib>=0.7.0 in /opt/conda/lib/python3.7/site-packages (from google-auth-oauthlib<0.5,>=0.4.1->tensorboard~=2.6->tensorflow) (1.3.0)\n",
      "Requirement already satisfied: importlib-metadata in /opt/conda/lib/python3.7/site-packages (from markdown>=2.6.8->tensorboard~=2.6->tensorflow) (3.10.1)\n",
      "Requirement already satisfied: pyasn1<0.5.0,>=0.4.6 in /opt/conda/lib/python3.7/site-packages (from pyasn1-modules>=0.2.1->google-auth<2,>=1.6.3->tensorboard~=2.6->tensorflow) (0.4.8)\n",
      "Requirement already satisfied: certifi>=2017.4.17 in /opt/conda/lib/python3.7/site-packages (from requests<3,>=2.21.0->tensorboard~=2.6->tensorflow) (2021.5.30)\n",
      "Requirement already satisfied: chardet<5,>=3.0.2 in /opt/conda/lib/python3.7/site-packages (from requests<3,>=2.21.0->tensorboard~=2.6->tensorflow) (4.0.0)\n",
      "Requirement already satisfied: urllib3<1.27,>=1.21.1 in /opt/conda/lib/python3.7/site-packages (from requests<3,>=2.21.0->tensorboard~=2.6->tensorflow) (1.26.6)\n",
      "Requirement already satisfied: idna<3,>=2.5 in /opt/conda/lib/python3.7/site-packages (from requests<3,>=2.21.0->tensorboard~=2.6->tensorflow) (2.10)\n",
      "Requirement already satisfied: oauthlib>=3.0.0 in /opt/conda/lib/python3.7/site-packages (from requests-oauthlib>=0.7.0->google-auth-oauthlib<0.5,>=0.4.1->tensorboard~=2.6->tensorflow) (3.1.1)\n",
      "Requirement already satisfied: zipp>=0.5 in /opt/conda/lib/python3.7/site-packages (from importlib-metadata->markdown>=2.6.8->tensorboard~=2.6->tensorflow) (3.5.0)\n"
     ]
    }
   ],
   "source": [
    "! pip install tensorflow"
   ]
  },
  {
   "cell_type": "code",
   "execution_count": 1,
   "id": "90c4700a",
   "metadata": {},
   "outputs": [
    {
     "name": "stderr",
     "output_type": "stream",
     "text": [
      "2021-08-26 13:17:41.723472: W tensorflow/stream_executor/platform/default/dso_loader.cc:64] Could not load dynamic library 'libcudart.so.11.0'; dlerror: libcudart.so.11.0: cannot open shared object file: No such file or directory\n",
      "2021-08-26 13:17:41.723519: I tensorflow/stream_executor/cuda/cudart_stub.cc:29] Ignore above cudart dlerror if you do not have a GPU set up on your machine.\n"
     ]
    }
   ],
   "source": [
    "# Imports\n",
    "import numpy as np\n",
    "import pandas as pd\n",
    "import matplotlib.pyplot as plt\n",
    "from imblearn.under_sampling import RandomUnderSampler\n",
    "from imblearn.over_sampling import RandomOverSampler\n",
    "from sklearn.model_selection import train_test_split\n",
    "from sklearn.preprocessing import StandardScaler\n",
    "from sklearn.linear_model import LogisticRegression\n",
    "from sklearn.ensemble import RandomForestClassifier\n",
    "from sklearn.metrics import accuracy_score, confusion_matrix, classification_report, make_scorer, roc_curve, roc_auc_score, recall_score,f1_score\n",
    "\n",
    "import tensorflow as tf\n",
    "from keras.callbacks import EarlyStopping\n",
    "\n",
    "from imblearn.over_sampling import SMOTE\n",
    "import seaborn as sns"
   ]
  },
  {
   "cell_type": "markdown",
   "id": "04b3c712",
   "metadata": {},
   "source": [
    "## Data preprocess & Integrity checking"
   ]
  },
  {
   "cell_type": "code",
   "execution_count": 2,
   "id": "1e3de4d6",
   "metadata": {},
   "outputs": [
    {
     "data": {
      "text/html": [
       "<div>\n",
       "<style scoped>\n",
       "    .dataframe tbody tr th:only-of-type {\n",
       "        vertical-align: middle;\n",
       "    }\n",
       "\n",
       "    .dataframe tbody tr th {\n",
       "        vertical-align: top;\n",
       "    }\n",
       "\n",
       "    .dataframe thead th {\n",
       "        text-align: right;\n",
       "    }\n",
       "</style>\n",
       "<table border=\"1\" class=\"dataframe\">\n",
       "  <thead>\n",
       "    <tr style=\"text-align: right;\">\n",
       "      <th></th>\n",
       "      <th>ein</th>\n",
       "      <th>unrelbusinccd</th>\n",
       "      <th>initiationfees</th>\n",
       "      <th>grsrcptspublicuse</th>\n",
       "      <th>grsincmembers</th>\n",
       "      <th>grsincother</th>\n",
       "      <th>totcntrbgfts</th>\n",
       "      <th>totprgmrevnue</th>\n",
       "      <th>invstmntinc</th>\n",
       "      <th>txexmptbndsproceeds</th>\n",
       "      <th>...</th>\n",
       "      <th>nonpfreayr-1_6</th>\n",
       "      <th>nonpfreayr-1_7</th>\n",
       "      <th>nonpfreayr-1_8</th>\n",
       "      <th>nonpfreayr-1_9</th>\n",
       "      <th>nonpfreayr-1_11</th>\n",
       "      <th>nonpfreayr-1_12</th>\n",
       "      <th>nonpfreayr-1_13</th>\n",
       "      <th>nonpfreayr-1_14</th>\n",
       "      <th>nonpfreayr-1_15</th>\n",
       "      <th>target</th>\n",
       "    </tr>\n",
       "  </thead>\n",
       "  <tbody>\n",
       "    <tr>\n",
       "      <th>0</th>\n",
       "      <td>910454080</td>\n",
       "      <td>0</td>\n",
       "      <td>0</td>\n",
       "      <td>0</td>\n",
       "      <td>0</td>\n",
       "      <td>0</td>\n",
       "      <td>935508</td>\n",
       "      <td>120315</td>\n",
       "      <td>7456</td>\n",
       "      <td>19969</td>\n",
       "      <td>...</td>\n",
       "      <td>0</td>\n",
       "      <td>0</td>\n",
       "      <td>0</td>\n",
       "      <td>0</td>\n",
       "      <td>0</td>\n",
       "      <td>0</td>\n",
       "      <td>0</td>\n",
       "      <td>0</td>\n",
       "      <td>0</td>\n",
       "      <td>3.0</td>\n",
       "    </tr>\n",
       "    <tr>\n",
       "      <th>1</th>\n",
       "      <td>111966978</td>\n",
       "      <td>0</td>\n",
       "      <td>0</td>\n",
       "      <td>0</td>\n",
       "      <td>0</td>\n",
       "      <td>0</td>\n",
       "      <td>0</td>\n",
       "      <td>5050020</td>\n",
       "      <td>153784</td>\n",
       "      <td>0</td>\n",
       "      <td>...</td>\n",
       "      <td>0</td>\n",
       "      <td>0</td>\n",
       "      <td>0</td>\n",
       "      <td>0</td>\n",
       "      <td>0</td>\n",
       "      <td>0</td>\n",
       "      <td>0</td>\n",
       "      <td>0</td>\n",
       "      <td>0</td>\n",
       "      <td>3.0</td>\n",
       "    </tr>\n",
       "    <tr>\n",
       "      <th>2</th>\n",
       "      <td>420660491</td>\n",
       "      <td>0</td>\n",
       "      <td>0</td>\n",
       "      <td>0</td>\n",
       "      <td>0</td>\n",
       "      <td>0</td>\n",
       "      <td>2945</td>\n",
       "      <td>11440</td>\n",
       "      <td>489</td>\n",
       "      <td>0</td>\n",
       "      <td>...</td>\n",
       "      <td>0</td>\n",
       "      <td>0</td>\n",
       "      <td>0</td>\n",
       "      <td>0</td>\n",
       "      <td>0</td>\n",
       "      <td>0</td>\n",
       "      <td>0</td>\n",
       "      <td>0</td>\n",
       "      <td>0</td>\n",
       "      <td>3.0</td>\n",
       "    </tr>\n",
       "    <tr>\n",
       "      <th>3</th>\n",
       "      <td>530152390</td>\n",
       "      <td>1</td>\n",
       "      <td>220425</td>\n",
       "      <td>468101</td>\n",
       "      <td>0</td>\n",
       "      <td>0</td>\n",
       "      <td>411058</td>\n",
       "      <td>2668044</td>\n",
       "      <td>29316</td>\n",
       "      <td>0</td>\n",
       "      <td>...</td>\n",
       "      <td>0</td>\n",
       "      <td>0</td>\n",
       "      <td>0</td>\n",
       "      <td>0</td>\n",
       "      <td>0</td>\n",
       "      <td>0</td>\n",
       "      <td>0</td>\n",
       "      <td>0</td>\n",
       "      <td>0</td>\n",
       "      <td>3.0</td>\n",
       "    </tr>\n",
       "    <tr>\n",
       "      <th>4</th>\n",
       "      <td>561547207</td>\n",
       "      <td>0</td>\n",
       "      <td>0</td>\n",
       "      <td>0</td>\n",
       "      <td>0</td>\n",
       "      <td>0</td>\n",
       "      <td>75</td>\n",
       "      <td>735052</td>\n",
       "      <td>783</td>\n",
       "      <td>0</td>\n",
       "      <td>...</td>\n",
       "      <td>0</td>\n",
       "      <td>0</td>\n",
       "      <td>0</td>\n",
       "      <td>0</td>\n",
       "      <td>0</td>\n",
       "      <td>0</td>\n",
       "      <td>0</td>\n",
       "      <td>0</td>\n",
       "      <td>0</td>\n",
       "      <td>3.0</td>\n",
       "    </tr>\n",
       "  </tbody>\n",
       "</table>\n",
       "<p>5 rows × 543 columns</p>\n",
       "</div>"
      ],
      "text/plain": [
       "         ein  unrelbusinccd  initiationfees  grsrcptspublicuse  grsincmembers  \\\n",
       "0  910454080              0               0                  0              0   \n",
       "1  111966978              0               0                  0              0   \n",
       "2  420660491              0               0                  0              0   \n",
       "3  530152390              1          220425             468101              0   \n",
       "4  561547207              0               0                  0              0   \n",
       "\n",
       "   grsincother  totcntrbgfts  totprgmrevnue  invstmntinc  txexmptbndsproceeds  \\\n",
       "0            0        935508         120315         7456                19969   \n",
       "1            0             0        5050020       153784                    0   \n",
       "2            0          2945          11440          489                    0   \n",
       "3            0        411058        2668044        29316                    0   \n",
       "4            0            75         735052          783                    0   \n",
       "\n",
       "   ...  nonpfreayr-1_6  nonpfreayr-1_7  nonpfreayr-1_8  nonpfreayr-1_9  \\\n",
       "0  ...               0               0               0               0   \n",
       "1  ...               0               0               0               0   \n",
       "2  ...               0               0               0               0   \n",
       "3  ...               0               0               0               0   \n",
       "4  ...               0               0               0               0   \n",
       "\n",
       "   nonpfreayr-1_11  nonpfreayr-1_12  nonpfreayr-1_13  nonpfreayr-1_14  \\\n",
       "0                0                0                0                0   \n",
       "1                0                0                0                0   \n",
       "2                0                0                0                0   \n",
       "3                0                0                0                0   \n",
       "4                0                0                0                0   \n",
       "\n",
       "   nonpfreayr-1_15  target  \n",
       "0                0     3.0  \n",
       "1                0     3.0  \n",
       "2                0     3.0  \n",
       "3                0     3.0  \n",
       "4                0     3.0  \n",
       "\n",
       "[5 rows x 543 columns]"
      ]
     },
     "execution_count": 2,
     "metadata": {},
     "output_type": "execute_result"
    }
   ],
   "source": [
    "df = pd.read_csv('all_yrs_processed.csv')\n",
    "# Relabel the data:\n",
    "# 0 -> termination & liqudiation\n",
    "# 1 -> termination only\n",
    "# 2 -> liqudation\n",
    "# 3 -> normal\n",
    "df.loc[(df['y_term']==1) & (df['y_liq']==1),'target'] = 0\n",
    "df.loc[(df['y_term']==1) & (df['y_liq']==0),'target'] = 1\n",
    "df.loc[(df['y_term']==0) & (df['y_liq']==1),'target'] = 2\n",
    "df.loc[(df['y_term']==0) & (df['y_liq']==0),'target'] = 3\n",
    "# drop orginal label \n",
    "col = ['y_term','y_liq','y_TL']\n",
    "df.drop(columns=col,inplace=True)\n",
    "\n",
    "df.head()"
   ]
  },
  {
   "cell_type": "code",
   "execution_count": 3,
   "id": "97817997",
   "metadata": {},
   "outputs": [
    {
     "data": {
      "text/plain": [
       "3.0    262779\n",
       "2.0      2217\n",
       "1.0      1232\n",
       "0.0       159\n",
       "Name: target, dtype: int64"
      ]
     },
     "execution_count": 3,
     "metadata": {},
     "output_type": "execute_result"
    }
   ],
   "source": [
    "# It is an unbalanced dataset\n",
    "df.target.value_counts()"
   ]
  },
  {
   "cell_type": "code",
   "execution_count": 4,
   "id": "19db8cd0",
   "metadata": {},
   "outputs": [
    {
     "name": "stdout",
     "output_type": "stream",
     "text": [
      "<class 'pandas.core.frame.DataFrame'>\n",
      "RangeIndex: 266387 entries, 0 to 266386\n",
      "Columns: 543 entries, ein to target\n",
      "dtypes: float64(219), int64(324)\n",
      "memory usage: 1.1 GB\n"
     ]
    }
   ],
   "source": [
    "df.info()"
   ]
  },
  {
   "cell_type": "code",
   "execution_count": 5,
   "id": "25e95c29",
   "metadata": {},
   "outputs": [
    {
     "data": {
      "text/plain": [
       "(266387, 543)"
      ]
     },
     "execution_count": 5,
     "metadata": {},
     "output_type": "execute_result"
    }
   ],
   "source": [
    "df.shape"
   ]
  },
  {
   "cell_type": "code",
   "execution_count": 6,
   "id": "4b1279b5",
   "metadata": {},
   "outputs": [
    {
     "data": {
      "text/html": [
       "<div>\n",
       "<style scoped>\n",
       "    .dataframe tbody tr th:only-of-type {\n",
       "        vertical-align: middle;\n",
       "    }\n",
       "\n",
       "    .dataframe tbody tr th {\n",
       "        vertical-align: top;\n",
       "    }\n",
       "\n",
       "    .dataframe thead th {\n",
       "        text-align: right;\n",
       "    }\n",
       "</style>\n",
       "<table border=\"1\" class=\"dataframe\">\n",
       "  <thead>\n",
       "    <tr style=\"text-align: right;\">\n",
       "      <th></th>\n",
       "      <th>count</th>\n",
       "      <th>mean</th>\n",
       "      <th>std</th>\n",
       "      <th>min</th>\n",
       "      <th>25%</th>\n",
       "      <th>50%</th>\n",
       "      <th>75%</th>\n",
       "      <th>max</th>\n",
       "    </tr>\n",
       "  </thead>\n",
       "  <tbody>\n",
       "    <tr>\n",
       "      <th>ein</th>\n",
       "      <td>266387.0</td>\n",
       "      <td>4.576145e+08</td>\n",
       "      <td>2.632679e+08</td>\n",
       "      <td>10018922.0</td>\n",
       "      <td>237249096.0</td>\n",
       "      <td>410951379.0</td>\n",
       "      <td>636005554.5</td>\n",
       "      <td>9.960869e+08</td>\n",
       "    </tr>\n",
       "    <tr>\n",
       "      <th>unrelbusinccd</th>\n",
       "      <td>266387.0</td>\n",
       "      <td>1.042844e-01</td>\n",
       "      <td>3.056297e-01</td>\n",
       "      <td>0.0</td>\n",
       "      <td>0.0</td>\n",
       "      <td>0.0</td>\n",
       "      <td>0.0</td>\n",
       "      <td>1.000000e+00</td>\n",
       "    </tr>\n",
       "    <tr>\n",
       "      <th>initiationfees</th>\n",
       "      <td>266387.0</td>\n",
       "      <td>3.665848e+03</td>\n",
       "      <td>9.193288e+04</td>\n",
       "      <td>-6975.0</td>\n",
       "      <td>0.0</td>\n",
       "      <td>0.0</td>\n",
       "      <td>0.0</td>\n",
       "      <td>1.744288e+07</td>\n",
       "    </tr>\n",
       "    <tr>\n",
       "      <th>grsrcptspublicuse</th>\n",
       "      <td>266387.0</td>\n",
       "      <td>3.186620e+03</td>\n",
       "      <td>6.970756e+04</td>\n",
       "      <td>-2592.0</td>\n",
       "      <td>0.0</td>\n",
       "      <td>0.0</td>\n",
       "      <td>0.0</td>\n",
       "      <td>1.427130e+07</td>\n",
       "    </tr>\n",
       "    <tr>\n",
       "      <th>grsincmembers</th>\n",
       "      <td>266387.0</td>\n",
       "      <td>2.158111e+05</td>\n",
       "      <td>7.335869e+06</td>\n",
       "      <td>0.0</td>\n",
       "      <td>0.0</td>\n",
       "      <td>0.0</td>\n",
       "      <td>0.0</td>\n",
       "      <td>1.197840e+09</td>\n",
       "    </tr>\n",
       "    <tr>\n",
       "      <th>...</th>\n",
       "      <td>...</td>\n",
       "      <td>...</td>\n",
       "      <td>...</td>\n",
       "      <td>...</td>\n",
       "      <td>...</td>\n",
       "      <td>...</td>\n",
       "      <td>...</td>\n",
       "      <td>...</td>\n",
       "    </tr>\n",
       "    <tr>\n",
       "      <th>nonpfreayr-1_12</th>\n",
       "      <td>266387.0</td>\n",
       "      <td>2.842106e-02</td>\n",
       "      <td>1.661728e-01</td>\n",
       "      <td>0.0</td>\n",
       "      <td>0.0</td>\n",
       "      <td>0.0</td>\n",
       "      <td>0.0</td>\n",
       "      <td>1.000000e+00</td>\n",
       "    </tr>\n",
       "    <tr>\n",
       "      <th>nonpfreayr-1_13</th>\n",
       "      <td>266387.0</td>\n",
       "      <td>9.486199e-03</td>\n",
       "      <td>9.693424e-02</td>\n",
       "      <td>0.0</td>\n",
       "      <td>0.0</td>\n",
       "      <td>0.0</td>\n",
       "      <td>0.0</td>\n",
       "      <td>1.000000e+00</td>\n",
       "    </tr>\n",
       "    <tr>\n",
       "      <th>nonpfreayr-1_14</th>\n",
       "      <td>266387.0</td>\n",
       "      <td>9.366073e-03</td>\n",
       "      <td>9.632437e-02</td>\n",
       "      <td>0.0</td>\n",
       "      <td>0.0</td>\n",
       "      <td>0.0</td>\n",
       "      <td>0.0</td>\n",
       "      <td>1.000000e+00</td>\n",
       "    </tr>\n",
       "    <tr>\n",
       "      <th>nonpfreayr-1_15</th>\n",
       "      <td>266387.0</td>\n",
       "      <td>9.035726e-03</td>\n",
       "      <td>9.462619e-02</td>\n",
       "      <td>0.0</td>\n",
       "      <td>0.0</td>\n",
       "      <td>0.0</td>\n",
       "      <td>0.0</td>\n",
       "      <td>1.000000e+00</td>\n",
       "    </tr>\n",
       "    <tr>\n",
       "      <th>target</th>\n",
       "      <td>266387.0</td>\n",
       "      <td>2.980637e+00</td>\n",
       "      <td>1.783787e-01</td>\n",
       "      <td>0.0</td>\n",
       "      <td>3.0</td>\n",
       "      <td>3.0</td>\n",
       "      <td>3.0</td>\n",
       "      <td>3.000000e+00</td>\n",
       "    </tr>\n",
       "  </tbody>\n",
       "</table>\n",
       "<p>543 rows × 8 columns</p>\n",
       "</div>"
      ],
      "text/plain": [
       "                      count          mean           std         min  \\\n",
       "ein                266387.0  4.576145e+08  2.632679e+08  10018922.0   \n",
       "unrelbusinccd      266387.0  1.042844e-01  3.056297e-01         0.0   \n",
       "initiationfees     266387.0  3.665848e+03  9.193288e+04     -6975.0   \n",
       "grsrcptspublicuse  266387.0  3.186620e+03  6.970756e+04     -2592.0   \n",
       "grsincmembers      266387.0  2.158111e+05  7.335869e+06         0.0   \n",
       "...                     ...           ...           ...         ...   \n",
       "nonpfreayr-1_12    266387.0  2.842106e-02  1.661728e-01         0.0   \n",
       "nonpfreayr-1_13    266387.0  9.486199e-03  9.693424e-02         0.0   \n",
       "nonpfreayr-1_14    266387.0  9.366073e-03  9.632437e-02         0.0   \n",
       "nonpfreayr-1_15    266387.0  9.035726e-03  9.462619e-02         0.0   \n",
       "target             266387.0  2.980637e+00  1.783787e-01         0.0   \n",
       "\n",
       "                           25%          50%          75%           max  \n",
       "ein                237249096.0  410951379.0  636005554.5  9.960869e+08  \n",
       "unrelbusinccd              0.0          0.0          0.0  1.000000e+00  \n",
       "initiationfees             0.0          0.0          0.0  1.744288e+07  \n",
       "grsrcptspublicuse          0.0          0.0          0.0  1.427130e+07  \n",
       "grsincmembers              0.0          0.0          0.0  1.197840e+09  \n",
       "...                        ...          ...          ...           ...  \n",
       "nonpfreayr-1_12            0.0          0.0          0.0  1.000000e+00  \n",
       "nonpfreayr-1_13            0.0          0.0          0.0  1.000000e+00  \n",
       "nonpfreayr-1_14            0.0          0.0          0.0  1.000000e+00  \n",
       "nonpfreayr-1_15            0.0          0.0          0.0  1.000000e+00  \n",
       "target                     3.0          3.0          3.0  3.000000e+00  \n",
       "\n",
       "[543 rows x 8 columns]"
      ]
     },
     "execution_count": 6,
     "metadata": {},
     "output_type": "execute_result"
    }
   ],
   "source": [
    "# At first glance, the data is recorded at different scale, \n",
    "# so normalization would be necessary\n",
    "df.describe().T"
   ]
  },
  {
   "cell_type": "markdown",
   "id": "df5f46d4",
   "metadata": {},
   "source": [
    "### Missing value handling"
   ]
  },
  {
   "cell_type": "code",
   "execution_count": 7,
   "id": "1e9cd26f",
   "metadata": {},
   "outputs": [
    {
     "data": {
      "text/html": [
       "<div>\n",
       "<style scoped>\n",
       "    .dataframe tbody tr th:only-of-type {\n",
       "        vertical-align: middle;\n",
       "    }\n",
       "\n",
       "    .dataframe tbody tr th {\n",
       "        vertical-align: top;\n",
       "    }\n",
       "\n",
       "    .dataframe thead th {\n",
       "        text-align: right;\n",
       "    }\n",
       "</style>\n",
       "<table border=\"1\" class=\"dataframe\">\n",
       "  <thead>\n",
       "    <tr style=\"text-align: right;\">\n",
       "      <th></th>\n",
       "      <th>num_nan</th>\n",
       "    </tr>\n",
       "  </thead>\n",
       "  <tbody>\n",
       "    <tr>\n",
       "      <th>ein</th>\n",
       "      <td>0</td>\n",
       "    </tr>\n",
       "    <tr>\n",
       "      <th>unrelbusinccd</th>\n",
       "      <td>0</td>\n",
       "    </tr>\n",
       "    <tr>\n",
       "      <th>initiationfees</th>\n",
       "      <td>0</td>\n",
       "    </tr>\n",
       "    <tr>\n",
       "      <th>grsrcptspublicuse</th>\n",
       "      <td>0</td>\n",
       "    </tr>\n",
       "    <tr>\n",
       "      <th>grsincmembers</th>\n",
       "      <td>0</td>\n",
       "    </tr>\n",
       "  </tbody>\n",
       "</table>\n",
       "</div>"
      ],
      "text/plain": [
       "                   num_nan\n",
       "ein                      0\n",
       "unrelbusinccd            0\n",
       "initiationfees           0\n",
       "grsrcptspublicuse        0\n",
       "grsincmembers            0"
      ]
     },
     "execution_count": 7,
     "metadata": {},
     "output_type": "execute_result"
    }
   ],
   "source": [
    "nan = pd.DataFrame({'num_nan':df.isna().sum()})\n",
    "nan.head()"
   ]
  },
  {
   "cell_type": "code",
   "execution_count": 8,
   "id": "0b717138",
   "metadata": {},
   "outputs": [
    {
     "data": {
      "text/plain": [
       "array([    5, 38196])"
      ]
     },
     "execution_count": 8,
     "metadata": {},
     "output_type": "execute_result"
    }
   ],
   "source": [
    "nan[nan['num_nan']!=0]['num_nan'].unique()"
   ]
  },
  {
   "cell_type": "code",
   "execution_count": 9,
   "id": "96bb57bd",
   "metadata": {},
   "outputs": [
    {
     "data": {
      "text/html": [
       "<div>\n",
       "<style scoped>\n",
       "    .dataframe tbody tr th:only-of-type {\n",
       "        vertical-align: middle;\n",
       "    }\n",
       "\n",
       "    .dataframe tbody tr th {\n",
       "        vertical-align: top;\n",
       "    }\n",
       "\n",
       "    .dataframe thead th {\n",
       "        text-align: right;\n",
       "    }\n",
       "</style>\n",
       "<table border=\"1\" class=\"dataframe\">\n",
       "  <thead>\n",
       "    <tr style=\"text-align: right;\">\n",
       "      <th></th>\n",
       "      <th>num_nan</th>\n",
       "    </tr>\n",
       "  </thead>\n",
       "  <tbody>\n",
       "    <tr>\n",
       "      <th>totsupp509</th>\n",
       "      <td>5</td>\n",
       "    </tr>\n",
       "    <tr>\n",
       "      <th>totsupp509yr-1</th>\n",
       "      <td>5</td>\n",
       "    </tr>\n",
       "  </tbody>\n",
       "</table>\n",
       "</div>"
      ],
      "text/plain": [
       "                num_nan\n",
       "totsupp509            5\n",
       "totsupp509yr-1        5"
      ]
     },
     "execution_count": 9,
     "metadata": {},
     "output_type": "execute_result"
    }
   ],
   "source": [
    "nan[nan['num_nan']==5]"
   ]
  },
  {
   "cell_type": "code",
   "execution_count": 10,
   "id": "0ccbb119",
   "metadata": {},
   "outputs": [
    {
     "data": {
      "text/html": [
       "<div>\n",
       "<style scoped>\n",
       "    .dataframe tbody tr th:only-of-type {\n",
       "        vertical-align: middle;\n",
       "    }\n",
       "\n",
       "    .dataframe tbody tr th {\n",
       "        vertical-align: top;\n",
       "    }\n",
       "\n",
       "    .dataframe thead th {\n",
       "        text-align: right;\n",
       "    }\n",
       "</style>\n",
       "<table border=\"1\" class=\"dataframe\">\n",
       "  <thead>\n",
       "    <tr style=\"text-align: right;\">\n",
       "      <th></th>\n",
       "      <th>num_nan</th>\n",
       "    </tr>\n",
       "  </thead>\n",
       "  <tbody>\n",
       "    <tr>\n",
       "      <th>f1096cntyr-1</th>\n",
       "      <td>38196</td>\n",
       "    </tr>\n",
       "    <tr>\n",
       "      <th>fw2gcntyr-1</th>\n",
       "      <td>38196</td>\n",
       "    </tr>\n",
       "    <tr>\n",
       "      <th>noemplyeesw3cntyr-1</th>\n",
       "      <td>38196</td>\n",
       "    </tr>\n",
       "    <tr>\n",
       "      <th>f8282cntyr-1</th>\n",
       "      <td>38196</td>\n",
       "    </tr>\n",
       "    <tr>\n",
       "      <th>txexmptintyr-1</th>\n",
       "      <td>38196</td>\n",
       "    </tr>\n",
       "    <tr>\n",
       "      <th>...</th>\n",
       "      <td>...</td>\n",
       "    </tr>\n",
       "    <tr>\n",
       "      <th>samepubsuppsubtot509yr-1</th>\n",
       "      <td>38196</td>\n",
       "    </tr>\n",
       "    <tr>\n",
       "      <th>grsinc509yr-1</th>\n",
       "      <td>38196</td>\n",
       "    </tr>\n",
       "    <tr>\n",
       "      <th>unreltxincls511tx509yr-1</th>\n",
       "      <td>38196</td>\n",
       "    </tr>\n",
       "    <tr>\n",
       "      <th>netincunrelatd509yr-1</th>\n",
       "      <td>38196</td>\n",
       "    </tr>\n",
       "    <tr>\n",
       "      <th>othrinc509yr-1</th>\n",
       "      <td>38196</td>\n",
       "    </tr>\n",
       "  </tbody>\n",
       "</table>\n",
       "<p>108 rows × 1 columns</p>\n",
       "</div>"
      ],
      "text/plain": [
       "                          num_nan\n",
       "f1096cntyr-1                38196\n",
       "fw2gcntyr-1                 38196\n",
       "noemplyeesw3cntyr-1         38196\n",
       "f8282cntyr-1                38196\n",
       "txexmptintyr-1              38196\n",
       "...                           ...\n",
       "samepubsuppsubtot509yr-1    38196\n",
       "grsinc509yr-1               38196\n",
       "unreltxincls511tx509yr-1    38196\n",
       "netincunrelatd509yr-1       38196\n",
       "othrinc509yr-1              38196\n",
       "\n",
       "[108 rows x 1 columns]"
      ]
     },
     "execution_count": 10,
     "metadata": {},
     "output_type": "execute_result"
    }
   ],
   "source": [
    "nan[nan['num_nan']==38196]"
   ]
  },
  {
   "cell_type": "code",
   "execution_count": 11,
   "id": "13ed005b",
   "metadata": {},
   "outputs": [],
   "source": [
    "# There are 108 columns which contains missing value,\n",
    "# for the purpose of this project, all missing values will be dropped.\n",
    "df = df.dropna()"
   ]
  },
  {
   "cell_type": "code",
   "execution_count": 12,
   "id": "6a5d15bd",
   "metadata": {},
   "outputs": [
    {
     "data": {
      "text/plain": [
       "(228181, 543)"
      ]
     },
     "execution_count": 12,
     "metadata": {},
     "output_type": "execute_result"
    }
   ],
   "source": [
    "# Around 14% of the data has been dropped in this step.\n",
    "df.shape"
   ]
  },
  {
   "cell_type": "code",
   "execution_count": 13,
   "id": "01279655",
   "metadata": {},
   "outputs": [
    {
     "data": {
      "text/plain": [
       "3.0    225000\n",
       "2.0      1975\n",
       "1.0      1076\n",
       "0.0       130\n",
       "Name: target, dtype: int64"
      ]
     },
     "execution_count": 13,
     "metadata": {},
     "output_type": "execute_result"
    }
   ],
   "source": [
    "df.target.value_counts()"
   ]
  },
  {
   "cell_type": "markdown",
   "id": "e0550a5f",
   "metadata": {},
   "source": [
    "### Remove columns whoes value is only 0"
   ]
  },
  {
   "cell_type": "code",
   "execution_count": 16,
   "id": "03186ba2",
   "metadata": {},
   "outputs": [],
   "source": [
    "def col_all_0(data):\n",
    "    col = []\n",
    "    for column in list(data.columns):\n",
    "        if (data[column].nunique() == 1) and (data[column].unique()[0] == 0):\n",
    "            col.append(column)\n",
    "    return col"
   ]
  },
  {
   "cell_type": "code",
   "execution_count": 17,
   "id": "c99814f6",
   "metadata": {},
   "outputs": [
    {
     "data": {
      "text/plain": [
       "['filedlieuf1041cd']"
      ]
     },
     "execution_count": 17,
     "metadata": {},
     "output_type": "execute_result"
    }
   ],
   "source": [
    "# check whether there are some columns in which all the records are 0\n",
    "col_0 = col_all_0(df)\n",
    "col_0"
   ]
  },
  {
   "cell_type": "code",
   "execution_count": 18,
   "id": "419c7f36",
   "metadata": {},
   "outputs": [],
   "source": [
    "# Personally, if the only value a column has is 0, the column would add little predictive power to the model\n",
    "# so I would drop this column.\n",
    "df.drop(columns=col_0,inplace=True)"
   ]
  },
  {
   "cell_type": "code",
   "execution_count": 19,
   "id": "087b166c",
   "metadata": {},
   "outputs": [
    {
     "data": {
      "text/plain": [
       "(228181, 542)"
      ]
     },
     "execution_count": 19,
     "metadata": {},
     "output_type": "execute_result"
    }
   ],
   "source": [
    "df.shape"
   ]
  },
  {
   "cell_type": "markdown",
   "id": "06c39710",
   "metadata": {},
   "source": [
    "### Prepare dataset for SML"
   ]
  },
  {
   "cell_type": "code",
   "execution_count": 21,
   "id": "f2bdcdcf",
   "metadata": {},
   "outputs": [],
   "source": [
    "# ein column is considered as index, so will be excluded from feature\n",
    "features = df.iloc[:,1:-1]\n",
    "targets = df.iloc[:,-1:]"
   ]
  },
  {
   "cell_type": "markdown",
   "id": "c3a29104",
   "metadata": {},
   "source": [
    "#### Normalization"
   ]
  },
  {
   "cell_type": "code",
   "execution_count": 24,
   "id": "b3d32140",
   "metadata": {},
   "outputs": [
    {
     "data": {
      "text/html": [
       "<div>\n",
       "<style scoped>\n",
       "    .dataframe tbody tr th:only-of-type {\n",
       "        vertical-align: middle;\n",
       "    }\n",
       "\n",
       "    .dataframe tbody tr th {\n",
       "        vertical-align: top;\n",
       "    }\n",
       "\n",
       "    .dataframe thead th {\n",
       "        text-align: right;\n",
       "    }\n",
       "</style>\n",
       "<table border=\"1\" class=\"dataframe\">\n",
       "  <thead>\n",
       "    <tr style=\"text-align: right;\">\n",
       "      <th></th>\n",
       "      <th>unrelbusinccd</th>\n",
       "      <th>initiationfees</th>\n",
       "      <th>grsrcptspublicuse</th>\n",
       "      <th>grsincmembers</th>\n",
       "      <th>grsincother</th>\n",
       "      <th>totcntrbgfts</th>\n",
       "      <th>totprgmrevnue</th>\n",
       "      <th>invstmntinc</th>\n",
       "      <th>txexmptbndsproceeds</th>\n",
       "      <th>royaltsinc</th>\n",
       "      <th>...</th>\n",
       "      <th>nonpfreayr-1_5</th>\n",
       "      <th>nonpfreayr-1_6</th>\n",
       "      <th>nonpfreayr-1_7</th>\n",
       "      <th>nonpfreayr-1_8</th>\n",
       "      <th>nonpfreayr-1_9</th>\n",
       "      <th>nonpfreayr-1_11</th>\n",
       "      <th>nonpfreayr-1_12</th>\n",
       "      <th>nonpfreayr-1_13</th>\n",
       "      <th>nonpfreayr-1_14</th>\n",
       "      <th>nonpfreayr-1_15</th>\n",
       "    </tr>\n",
       "  </thead>\n",
       "  <tbody>\n",
       "    <tr>\n",
       "      <th>0</th>\n",
       "      <td>-0.343053</td>\n",
       "      <td>-0.040263</td>\n",
       "      <td>-0.045376</td>\n",
       "      <td>-0.030673</td>\n",
       "      <td>-0.018833</td>\n",
       "      <td>-0.066678</td>\n",
       "      <td>-0.012946</td>\n",
       "      <td>-0.004817</td>\n",
       "      <td>-0.011999</td>\n",
       "      <td>-0.010719</td>\n",
       "      <td>...</td>\n",
       "      <td>-0.035979</td>\n",
       "      <td>-0.070201</td>\n",
       "      <td>-0.698011</td>\n",
       "      <td>-0.069727</td>\n",
       "      <td>-0.607637</td>\n",
       "      <td>-0.031695</td>\n",
       "      <td>-0.175553</td>\n",
       "      <td>-0.099435</td>\n",
       "      <td>-0.096308</td>\n",
       "      <td>-0.094696</td>\n",
       "    </tr>\n",
       "    <tr>\n",
       "      <th>1</th>\n",
       "      <td>2.915005</td>\n",
       "      <td>-0.040263</td>\n",
       "      <td>-0.045376</td>\n",
       "      <td>-0.030673</td>\n",
       "      <td>-0.018833</td>\n",
       "      <td>0.019258</td>\n",
       "      <td>-0.005758</td>\n",
       "      <td>-0.025635</td>\n",
       "      <td>-0.011999</td>\n",
       "      <td>0.011511</td>\n",
       "      <td>...</td>\n",
       "      <td>-0.035979</td>\n",
       "      <td>-0.070201</td>\n",
       "      <td>-0.698011</td>\n",
       "      <td>-0.069727</td>\n",
       "      <td>-0.607637</td>\n",
       "      <td>-0.031695</td>\n",
       "      <td>-0.175553</td>\n",
       "      <td>-0.099435</td>\n",
       "      <td>-0.096308</td>\n",
       "      <td>-0.094696</td>\n",
       "    </tr>\n",
       "    <tr>\n",
       "      <th>2</th>\n",
       "      <td>-0.343053</td>\n",
       "      <td>-0.040263</td>\n",
       "      <td>-0.045376</td>\n",
       "      <td>-0.030673</td>\n",
       "      <td>-0.018833</td>\n",
       "      <td>-0.066678</td>\n",
       "      <td>-0.050722</td>\n",
       "      <td>-0.030766</td>\n",
       "      <td>-0.011999</td>\n",
       "      <td>-0.010719</td>\n",
       "      <td>...</td>\n",
       "      <td>-0.035979</td>\n",
       "      <td>-0.070201</td>\n",
       "      <td>-0.698011</td>\n",
       "      <td>-0.069727</td>\n",
       "      <td>-0.607637</td>\n",
       "      <td>-0.031695</td>\n",
       "      <td>-0.175553</td>\n",
       "      <td>-0.099435</td>\n",
       "      <td>-0.096308</td>\n",
       "      <td>-0.094696</td>\n",
       "    </tr>\n",
       "    <tr>\n",
       "      <th>3</th>\n",
       "      <td>2.915005</td>\n",
       "      <td>11.742606</td>\n",
       "      <td>2.960947</td>\n",
       "      <td>-0.030673</td>\n",
       "      <td>-0.018833</td>\n",
       "      <td>-0.066678</td>\n",
       "      <td>-0.029004</td>\n",
       "      <td>-0.027584</td>\n",
       "      <td>-0.011999</td>\n",
       "      <td>-0.010719</td>\n",
       "      <td>...</td>\n",
       "      <td>-0.035979</td>\n",
       "      <td>-0.070201</td>\n",
       "      <td>-0.698011</td>\n",
       "      <td>-0.069727</td>\n",
       "      <td>-0.607637</td>\n",
       "      <td>-0.031695</td>\n",
       "      <td>-0.175553</td>\n",
       "      <td>-0.099435</td>\n",
       "      <td>-0.096308</td>\n",
       "      <td>-0.094696</td>\n",
       "    </tr>\n",
       "    <tr>\n",
       "      <th>4</th>\n",
       "      <td>2.915005</td>\n",
       "      <td>-0.040263</td>\n",
       "      <td>-0.045376</td>\n",
       "      <td>-0.030673</td>\n",
       "      <td>-0.018833</td>\n",
       "      <td>0.305289</td>\n",
       "      <td>0.002305</td>\n",
       "      <td>-0.030081</td>\n",
       "      <td>-0.011999</td>\n",
       "      <td>-0.010719</td>\n",
       "      <td>...</td>\n",
       "      <td>-0.035979</td>\n",
       "      <td>-0.070201</td>\n",
       "      <td>-0.698011</td>\n",
       "      <td>-0.069727</td>\n",
       "      <td>-0.607637</td>\n",
       "      <td>-0.031695</td>\n",
       "      <td>-0.175553</td>\n",
       "      <td>-0.099435</td>\n",
       "      <td>-0.096308</td>\n",
       "      <td>-0.094696</td>\n",
       "    </tr>\n",
       "  </tbody>\n",
       "</table>\n",
       "<p>5 rows × 540 columns</p>\n",
       "</div>"
      ],
      "text/plain": [
       "   unrelbusinccd  initiationfees  grsrcptspublicuse  grsincmembers  \\\n",
       "0      -0.343053       -0.040263          -0.045376      -0.030673   \n",
       "1       2.915005       -0.040263          -0.045376      -0.030673   \n",
       "2      -0.343053       -0.040263          -0.045376      -0.030673   \n",
       "3       2.915005       11.742606           2.960947      -0.030673   \n",
       "4       2.915005       -0.040263          -0.045376      -0.030673   \n",
       "\n",
       "   grsincother  totcntrbgfts  totprgmrevnue  invstmntinc  txexmptbndsproceeds  \\\n",
       "0    -0.018833     -0.066678      -0.012946    -0.004817            -0.011999   \n",
       "1    -0.018833      0.019258      -0.005758    -0.025635            -0.011999   \n",
       "2    -0.018833     -0.066678      -0.050722    -0.030766            -0.011999   \n",
       "3    -0.018833     -0.066678      -0.029004    -0.027584            -0.011999   \n",
       "4    -0.018833      0.305289       0.002305    -0.030081            -0.011999   \n",
       "\n",
       "   royaltsinc  ...  nonpfreayr-1_5  nonpfreayr-1_6  nonpfreayr-1_7  \\\n",
       "0   -0.010719  ...       -0.035979       -0.070201       -0.698011   \n",
       "1    0.011511  ...       -0.035979       -0.070201       -0.698011   \n",
       "2   -0.010719  ...       -0.035979       -0.070201       -0.698011   \n",
       "3   -0.010719  ...       -0.035979       -0.070201       -0.698011   \n",
       "4   -0.010719  ...       -0.035979       -0.070201       -0.698011   \n",
       "\n",
       "   nonpfreayr-1_8  nonpfreayr-1_9  nonpfreayr-1_11  nonpfreayr-1_12  \\\n",
       "0       -0.069727       -0.607637        -0.031695        -0.175553   \n",
       "1       -0.069727       -0.607637        -0.031695        -0.175553   \n",
       "2       -0.069727       -0.607637        -0.031695        -0.175553   \n",
       "3       -0.069727       -0.607637        -0.031695        -0.175553   \n",
       "4       -0.069727       -0.607637        -0.031695        -0.175553   \n",
       "\n",
       "   nonpfreayr-1_13  nonpfreayr-1_14  nonpfreayr-1_15  \n",
       "0        -0.099435        -0.096308        -0.094696  \n",
       "1        -0.099435        -0.096308        -0.094696  \n",
       "2        -0.099435        -0.096308        -0.094696  \n",
       "3        -0.099435        -0.096308        -0.094696  \n",
       "4        -0.099435        -0.096308        -0.094696  \n",
       "\n",
       "[5 rows x 540 columns]"
      ]
     },
     "execution_count": 24,
     "metadata": {},
     "output_type": "execute_result"
    }
   ],
   "source": [
    "# normalize\n",
    "scaler = StandardScaler()\n",
    "feature_nor = pd.DataFrame(data=scaler.fit_transform(features),columns=features.columns)\n",
    "feature_nor.head()"
   ]
  },
  {
   "cell_type": "code",
   "execution_count": 25,
   "id": "7d2223b1",
   "metadata": {},
   "outputs": [
    {
     "data": {
      "text/html": [
       "<div>\n",
       "<style scoped>\n",
       "    .dataframe tbody tr th:only-of-type {\n",
       "        vertical-align: middle;\n",
       "    }\n",
       "\n",
       "    .dataframe tbody tr th {\n",
       "        vertical-align: top;\n",
       "    }\n",
       "\n",
       "    .dataframe thead th {\n",
       "        text-align: right;\n",
       "    }\n",
       "</style>\n",
       "<table border=\"1\" class=\"dataframe\">\n",
       "  <thead>\n",
       "    <tr style=\"text-align: right;\">\n",
       "      <th></th>\n",
       "      <th>unrelbusinccd</th>\n",
       "      <th>initiationfees</th>\n",
       "      <th>grsrcptspublicuse</th>\n",
       "      <th>grsincmembers</th>\n",
       "      <th>grsincother</th>\n",
       "      <th>totcntrbgfts</th>\n",
       "      <th>totprgmrevnue</th>\n",
       "      <th>invstmntinc</th>\n",
       "      <th>txexmptbndsproceeds</th>\n",
       "      <th>royaltsinc</th>\n",
       "      <th>...</th>\n",
       "      <th>nonpfreayr-1_5</th>\n",
       "      <th>nonpfreayr-1_6</th>\n",
       "      <th>nonpfreayr-1_7</th>\n",
       "      <th>nonpfreayr-1_8</th>\n",
       "      <th>nonpfreayr-1_9</th>\n",
       "      <th>nonpfreayr-1_11</th>\n",
       "      <th>nonpfreayr-1_12</th>\n",
       "      <th>nonpfreayr-1_13</th>\n",
       "      <th>nonpfreayr-1_14</th>\n",
       "      <th>nonpfreayr-1_15</th>\n",
       "    </tr>\n",
       "  </thead>\n",
       "  <tbody>\n",
       "    <tr>\n",
       "      <th>count</th>\n",
       "      <td>2.281810e+05</td>\n",
       "      <td>2.281810e+05</td>\n",
       "      <td>2.281810e+05</td>\n",
       "      <td>2.281810e+05</td>\n",
       "      <td>2.281810e+05</td>\n",
       "      <td>2.281810e+05</td>\n",
       "      <td>2.281810e+05</td>\n",
       "      <td>2.281810e+05</td>\n",
       "      <td>2.281810e+05</td>\n",
       "      <td>2.281810e+05</td>\n",
       "      <td>...</td>\n",
       "      <td>2.281810e+05</td>\n",
       "      <td>2.281810e+05</td>\n",
       "      <td>2.281810e+05</td>\n",
       "      <td>2.281810e+05</td>\n",
       "      <td>2.281810e+05</td>\n",
       "      <td>2.281810e+05</td>\n",
       "      <td>2.281810e+05</td>\n",
       "      <td>2.281810e+05</td>\n",
       "      <td>2.281810e+05</td>\n",
       "      <td>2.281810e+05</td>\n",
       "    </tr>\n",
       "    <tr>\n",
       "      <th>mean</th>\n",
       "      <td>-1.181406e-13</td>\n",
       "      <td>1.100944e-13</td>\n",
       "      <td>4.417571e-14</td>\n",
       "      <td>-3.897120e-14</td>\n",
       "      <td>1.630375e-14</td>\n",
       "      <td>1.759710e-14</td>\n",
       "      <td>5.287503e-14</td>\n",
       "      <td>9.536040e-15</td>\n",
       "      <td>-2.641266e-15</td>\n",
       "      <td>1.362493e-14</td>\n",
       "      <td>...</td>\n",
       "      <td>-1.273219e-14</td>\n",
       "      <td>3.282958e-14</td>\n",
       "      <td>3.479959e-14</td>\n",
       "      <td>1.721203e-14</td>\n",
       "      <td>-1.441368e-13</td>\n",
       "      <td>-1.543130e-14</td>\n",
       "      <td>-4.755064e-14</td>\n",
       "      <td>1.757251e-14</td>\n",
       "      <td>-3.273080e-14</td>\n",
       "      <td>-2.155881e-14</td>\n",
       "    </tr>\n",
       "    <tr>\n",
       "      <th>std</th>\n",
       "      <td>1.000002e+00</td>\n",
       "      <td>1.000002e+00</td>\n",
       "      <td>1.000002e+00</td>\n",
       "      <td>1.000002e+00</td>\n",
       "      <td>1.000002e+00</td>\n",
       "      <td>1.000002e+00</td>\n",
       "      <td>1.000002e+00</td>\n",
       "      <td>1.000002e+00</td>\n",
       "      <td>1.000002e+00</td>\n",
       "      <td>1.000002e+00</td>\n",
       "      <td>...</td>\n",
       "      <td>1.000002e+00</td>\n",
       "      <td>1.000002e+00</td>\n",
       "      <td>1.000002e+00</td>\n",
       "      <td>1.000002e+00</td>\n",
       "      <td>1.000002e+00</td>\n",
       "      <td>1.000002e+00</td>\n",
       "      <td>1.000002e+00</td>\n",
       "      <td>1.000002e+00</td>\n",
       "      <td>1.000002e+00</td>\n",
       "      <td>1.000002e+00</td>\n",
       "    </tr>\n",
       "    <tr>\n",
       "      <th>min</th>\n",
       "      <td>-3.430526e-01</td>\n",
       "      <td>-1.132167e-01</td>\n",
       "      <td>-8.100554e-02</td>\n",
       "      <td>-3.067252e-02</td>\n",
       "      <td>-5.522873e+01</td>\n",
       "      <td>-7.616185e-02</td>\n",
       "      <td>-1.037017e+00</td>\n",
       "      <td>-1.393910e+01</td>\n",
       "      <td>-9.522101e+00</td>\n",
       "      <td>-2.557068e-02</td>\n",
       "      <td>...</td>\n",
       "      <td>-3.597926e-02</td>\n",
       "      <td>-7.020092e-02</td>\n",
       "      <td>-6.980106e-01</td>\n",
       "      <td>-6.972652e-02</td>\n",
       "      <td>-6.076372e-01</td>\n",
       "      <td>-3.169539e-02</td>\n",
       "      <td>-1.755526e-01</td>\n",
       "      <td>-9.943477e-02</td>\n",
       "      <td>-9.630843e-02</td>\n",
       "      <td>-9.469625e-02</td>\n",
       "    </tr>\n",
       "    <tr>\n",
       "      <th>25%</th>\n",
       "      <td>-3.430526e-01</td>\n",
       "      <td>-4.026287e-02</td>\n",
       "      <td>-4.537587e-02</td>\n",
       "      <td>-3.067252e-02</td>\n",
       "      <td>-1.883253e-02</td>\n",
       "      <td>-6.661441e-02</td>\n",
       "      <td>-5.343491e-02</td>\n",
       "      <td>-3.077916e-02</td>\n",
       "      <td>-1.199880e-02</td>\n",
       "      <td>-1.071930e-02</td>\n",
       "      <td>...</td>\n",
       "      <td>-3.597926e-02</td>\n",
       "      <td>-7.020092e-02</td>\n",
       "      <td>-6.980106e-01</td>\n",
       "      <td>-6.972652e-02</td>\n",
       "      <td>-6.076372e-01</td>\n",
       "      <td>-3.169539e-02</td>\n",
       "      <td>-1.755526e-01</td>\n",
       "      <td>-9.943477e-02</td>\n",
       "      <td>-9.630843e-02</td>\n",
       "      <td>-9.469625e-02</td>\n",
       "    </tr>\n",
       "    <tr>\n",
       "      <th>50%</th>\n",
       "      <td>-3.430526e-01</td>\n",
       "      <td>-4.026287e-02</td>\n",
       "      <td>-4.537587e-02</td>\n",
       "      <td>-3.067252e-02</td>\n",
       "      <td>-1.883253e-02</td>\n",
       "      <td>-6.234677e-02</td>\n",
       "      <td>-5.279288e-02</td>\n",
       "      <td>-3.071889e-02</td>\n",
       "      <td>-1.199880e-02</td>\n",
       "      <td>-1.071930e-02</td>\n",
       "      <td>...</td>\n",
       "      <td>-3.597926e-02</td>\n",
       "      <td>-7.020092e-02</td>\n",
       "      <td>-6.980106e-01</td>\n",
       "      <td>-6.972652e-02</td>\n",
       "      <td>-6.076372e-01</td>\n",
       "      <td>-3.169539e-02</td>\n",
       "      <td>-1.755526e-01</td>\n",
       "      <td>-9.943477e-02</td>\n",
       "      <td>-9.630843e-02</td>\n",
       "      <td>-9.469625e-02</td>\n",
       "    </tr>\n",
       "    <tr>\n",
       "      <th>75%</th>\n",
       "      <td>-3.430526e-01</td>\n",
       "      <td>-4.026287e-02</td>\n",
       "      <td>-4.537587e-02</td>\n",
       "      <td>-3.067252e-02</td>\n",
       "      <td>-1.883253e-02</td>\n",
       "      <td>-4.650899e-02</td>\n",
       "      <td>-4.892196e-02</td>\n",
       "      <td>-2.919881e-02</td>\n",
       "      <td>-1.199880e-02</td>\n",
       "      <td>-1.071930e-02</td>\n",
       "      <td>...</td>\n",
       "      <td>-3.597926e-02</td>\n",
       "      <td>-7.020092e-02</td>\n",
       "      <td>1.432643e+00</td>\n",
       "      <td>-6.972652e-02</td>\n",
       "      <td>1.645719e+00</td>\n",
       "      <td>-3.169539e-02</td>\n",
       "      <td>-1.755526e-01</td>\n",
       "      <td>-9.943477e-02</td>\n",
       "      <td>-9.630843e-02</td>\n",
       "      <td>-9.469625e-02</td>\n",
       "    </tr>\n",
       "    <tr>\n",
       "      <th>max</th>\n",
       "      <td>2.915005e+00</td>\n",
       "      <td>1.824005e+02</td>\n",
       "      <td>1.961281e+02</td>\n",
       "      <td>1.529358e+02</td>\n",
       "      <td>2.580917e+02</td>\n",
       "      <td>2.205049e+02</td>\n",
       "      <td>3.385887e+02</td>\n",
       "      <td>2.951042e+02</td>\n",
       "      <td>2.740020e+02</td>\n",
       "      <td>3.514783e+02</td>\n",
       "      <td>...</td>\n",
       "      <td>2.779379e+01</td>\n",
       "      <td>1.424483e+01</td>\n",
       "      <td>1.432643e+00</td>\n",
       "      <td>1.434175e+01</td>\n",
       "      <td>1.645719e+00</td>\n",
       "      <td>3.155033e+01</td>\n",
       "      <td>5.696298e+00</td>\n",
       "      <td>1.005684e+01</td>\n",
       "      <td>1.038331e+01</td>\n",
       "      <td>1.056008e+01</td>\n",
       "    </tr>\n",
       "  </tbody>\n",
       "</table>\n",
       "<p>8 rows × 540 columns</p>\n",
       "</div>"
      ],
      "text/plain": [
       "       unrelbusinccd  initiationfees  grsrcptspublicuse  grsincmembers  \\\n",
       "count   2.281810e+05    2.281810e+05       2.281810e+05   2.281810e+05   \n",
       "mean   -1.181406e-13    1.100944e-13       4.417571e-14  -3.897120e-14   \n",
       "std     1.000002e+00    1.000002e+00       1.000002e+00   1.000002e+00   \n",
       "min    -3.430526e-01   -1.132167e-01      -8.100554e-02  -3.067252e-02   \n",
       "25%    -3.430526e-01   -4.026287e-02      -4.537587e-02  -3.067252e-02   \n",
       "50%    -3.430526e-01   -4.026287e-02      -4.537587e-02  -3.067252e-02   \n",
       "75%    -3.430526e-01   -4.026287e-02      -4.537587e-02  -3.067252e-02   \n",
       "max     2.915005e+00    1.824005e+02       1.961281e+02   1.529358e+02   \n",
       "\n",
       "        grsincother  totcntrbgfts  totprgmrevnue   invstmntinc  \\\n",
       "count  2.281810e+05  2.281810e+05   2.281810e+05  2.281810e+05   \n",
       "mean   1.630375e-14  1.759710e-14   5.287503e-14  9.536040e-15   \n",
       "std    1.000002e+00  1.000002e+00   1.000002e+00  1.000002e+00   \n",
       "min   -5.522873e+01 -7.616185e-02  -1.037017e+00 -1.393910e+01   \n",
       "25%   -1.883253e-02 -6.661441e-02  -5.343491e-02 -3.077916e-02   \n",
       "50%   -1.883253e-02 -6.234677e-02  -5.279288e-02 -3.071889e-02   \n",
       "75%   -1.883253e-02 -4.650899e-02  -4.892196e-02 -2.919881e-02   \n",
       "max    2.580917e+02  2.205049e+02   3.385887e+02  2.951042e+02   \n",
       "\n",
       "       txexmptbndsproceeds    royaltsinc  ...  nonpfreayr-1_5  nonpfreayr-1_6  \\\n",
       "count         2.281810e+05  2.281810e+05  ...    2.281810e+05    2.281810e+05   \n",
       "mean         -2.641266e-15  1.362493e-14  ...   -1.273219e-14    3.282958e-14   \n",
       "std           1.000002e+00  1.000002e+00  ...    1.000002e+00    1.000002e+00   \n",
       "min          -9.522101e+00 -2.557068e-02  ...   -3.597926e-02   -7.020092e-02   \n",
       "25%          -1.199880e-02 -1.071930e-02  ...   -3.597926e-02   -7.020092e-02   \n",
       "50%          -1.199880e-02 -1.071930e-02  ...   -3.597926e-02   -7.020092e-02   \n",
       "75%          -1.199880e-02 -1.071930e-02  ...   -3.597926e-02   -7.020092e-02   \n",
       "max           2.740020e+02  3.514783e+02  ...    2.779379e+01    1.424483e+01   \n",
       "\n",
       "       nonpfreayr-1_7  nonpfreayr-1_8  nonpfreayr-1_9  nonpfreayr-1_11  \\\n",
       "count    2.281810e+05    2.281810e+05    2.281810e+05     2.281810e+05   \n",
       "mean     3.479959e-14    1.721203e-14   -1.441368e-13    -1.543130e-14   \n",
       "std      1.000002e+00    1.000002e+00    1.000002e+00     1.000002e+00   \n",
       "min     -6.980106e-01   -6.972652e-02   -6.076372e-01    -3.169539e-02   \n",
       "25%     -6.980106e-01   -6.972652e-02   -6.076372e-01    -3.169539e-02   \n",
       "50%     -6.980106e-01   -6.972652e-02   -6.076372e-01    -3.169539e-02   \n",
       "75%      1.432643e+00   -6.972652e-02    1.645719e+00    -3.169539e-02   \n",
       "max      1.432643e+00    1.434175e+01    1.645719e+00     3.155033e+01   \n",
       "\n",
       "       nonpfreayr-1_12  nonpfreayr-1_13  nonpfreayr-1_14  nonpfreayr-1_15  \n",
       "count     2.281810e+05     2.281810e+05     2.281810e+05     2.281810e+05  \n",
       "mean     -4.755064e-14     1.757251e-14    -3.273080e-14    -2.155881e-14  \n",
       "std       1.000002e+00     1.000002e+00     1.000002e+00     1.000002e+00  \n",
       "min      -1.755526e-01    -9.943477e-02    -9.630843e-02    -9.469625e-02  \n",
       "25%      -1.755526e-01    -9.943477e-02    -9.630843e-02    -9.469625e-02  \n",
       "50%      -1.755526e-01    -9.943477e-02    -9.630843e-02    -9.469625e-02  \n",
       "75%      -1.755526e-01    -9.943477e-02    -9.630843e-02    -9.469625e-02  \n",
       "max       5.696298e+00     1.005684e+01     1.038331e+01     1.056008e+01  \n",
       "\n",
       "[8 rows x 540 columns]"
      ]
     },
     "execution_count": 25,
     "metadata": {},
     "output_type": "execute_result"
    }
   ],
   "source": [
    "feature_nor.describe()"
   ]
  },
  {
   "cell_type": "markdown",
   "id": "74a31109",
   "metadata": {},
   "source": [
    "#### Get train/Valid set"
   ]
  },
  {
   "cell_type": "code",
   "execution_count": 33,
   "id": "b7a4e9f2",
   "metadata": {},
   "outputs": [],
   "source": [
    "# Since it is an unbalanced dataset, stratify would make the train/validation datasets\n",
    "#be more representative of the original dataset\n",
    "validation_size = 0.2\n",
    "X_train, X_test, y_train, y_test = train_test_split(feature_nor,targets,test_size=validation_size,random_state=0,stratify=targets)"
   ]
  },
  {
   "cell_type": "code",
   "execution_count": 34,
   "id": "a9634752",
   "metadata": {},
   "outputs": [
    {
     "data": {
      "text/plain": [
       "((182544, 540), (45637, 540), (182544, 1), (45637, 1))"
      ]
     },
     "execution_count": 34,
     "metadata": {},
     "output_type": "execute_result"
    }
   ],
   "source": [
    "X_train.shape, X_test.shape, y_train.shape, y_test.shape"
   ]
  },
  {
   "cell_type": "code",
   "execution_count": 35,
   "id": "8de3e699",
   "metadata": {},
   "outputs": [
    {
     "data": {
      "text/plain": [
       "target\n",
       "3.0       179999\n",
       "2.0         1580\n",
       "1.0          861\n",
       "0.0          104\n",
       "dtype: int64"
      ]
     },
     "execution_count": 35,
     "metadata": {},
     "output_type": "execute_result"
    }
   ],
   "source": [
    "y_train.value_counts()"
   ]
  },
  {
   "cell_type": "code",
   "execution_count": 36,
   "id": "9c0c91d7",
   "metadata": {},
   "outputs": [
    {
     "data": {
      "text/plain": [
       "target\n",
       "3.0       45001\n",
       "2.0         395\n",
       "1.0         215\n",
       "0.0          26\n",
       "dtype: int64"
      ]
     },
     "execution_count": 36,
     "metadata": {},
     "output_type": "execute_result"
    }
   ],
   "source": [
    "y_test.value_counts()"
   ]
  },
  {
   "cell_type": "markdown",
   "id": "9364a733",
   "metadata": {},
   "source": [
    "#### Downsampling"
   ]
  },
  {
   "cell_type": "code",
   "execution_count": 37,
   "id": "ce175a1b",
   "metadata": {},
   "outputs": [],
   "source": [
    "# resample the training set only\n",
    "oversample = SMOTE(sampling_strategy={0:800, 1:1000, 2:1800})\n",
    "X_up, y_up = oversample.fit_resample(X_train, y_train)\n",
    "\n",
    "# down sample 3 in train set only\n",
    "undersample = RandomUnderSampler(sampling_strategy={3:2000})\n",
    "X_train, y_train = undersample.fit_resample(X_up, y_up)"
   ]
  },
  {
   "cell_type": "code",
   "execution_count": 38,
   "id": "394b5fc1",
   "metadata": {},
   "outputs": [
    {
     "data": {
      "text/plain": [
       "target\n",
       "3.0       2000\n",
       "2.0       1800\n",
       "1.0       1000\n",
       "0.0        800\n",
       "dtype: int64"
      ]
     },
     "execution_count": 38,
     "metadata": {},
     "output_type": "execute_result"
    }
   ],
   "source": [
    "y_train.value_counts()"
   ]
  },
  {
   "cell_type": "markdown",
   "id": "864a5886",
   "metadata": {},
   "source": [
    "## Classic ML models"
   ]
  },
  {
   "cell_type": "code",
   "execution_count": 39,
   "id": "dee29bf5",
   "metadata": {},
   "outputs": [],
   "source": [
    "y_test = y_test.values.ravel()\n",
    "y_train = y_train.values.ravel()"
   ]
  },
  {
   "cell_type": "code",
   "execution_count": 40,
   "id": "766b909e",
   "metadata": {},
   "outputs": [],
   "source": [
    "def train(alglist,X_train,X_test,y_train, y_test):\n",
    "    algorithms = pd.DataFrame()\n",
    "    idx = 0\n",
    "\n",
    "    for a in alglist:\n",
    "        a.fit(X_train, y_train)\n",
    "        pred_prob = a.predict_proba(X_test)\n",
    "        pred1_prob = a.predict_proba(X_train)\n",
    "        pred = a.predict(X_test)\n",
    "        pred1 = a.predict(X_train)\n",
    "        acc = accuracy_score(y_test, pred)\n",
    "        f1 = f1_score(y_test, pred, average='micro')\n",
    "        auc_train = roc_auc_score(y_train, pred1_prob, multi_class='ovo', average='macro')\n",
    "        auc_test = roc_auc_score(y_test, pred_prob, multi_class='ovo', average='macro')\n",
    "        rec =recall_score(y_test, pred, average='micro')\n",
    "        \n",
    "        Alg = a.__class__.__name__\n",
    "        \n",
    "        algorithms.loc[idx, 'Algorithm'] = Alg\n",
    "        algorithms.loc[idx, 'Accuracy'] = acc\n",
    "        algorithms.loc[idx, 'F1 Score'] = f1\n",
    "        algorithms.loc[idx, 'AUC_test'] = auc_test\n",
    "        algorithms.loc[idx, 'AUC_train'] = auc_train\n",
    "        algorithms.loc[idx,'Recall'] = rec\n",
    "\n",
    "        idx+=1\n",
    "    return algorithms"
   ]
  },
  {
   "cell_type": "code",
   "execution_count": 42,
   "id": "80c1ecf9",
   "metadata": {},
   "outputs": [],
   "source": [
    "alg = [RandomForestClassifier(),LogisticRegression()]"
   ]
  },
  {
   "cell_type": "code",
   "execution_count": 43,
   "id": "9e2d7707",
   "metadata": {},
   "outputs": [
    {
     "name": "stderr",
     "output_type": "stream",
     "text": [
      "/opt/conda/lib/python3.7/site-packages/sklearn/linear_model/_logistic.py:765: ConvergenceWarning: lbfgs failed to converge (status=1):\n",
      "STOP: TOTAL NO. of ITERATIONS REACHED LIMIT.\n",
      "\n",
      "Increase the number of iterations (max_iter) or scale the data as shown in:\n",
      "    https://scikit-learn.org/stable/modules/preprocessing.html\n",
      "Please also refer to the documentation for alternative solver options:\n",
      "    https://scikit-learn.org/stable/modules/linear_model.html#logistic-regression\n",
      "  extra_warning_msg=_LOGISTIC_SOLVER_CONVERGENCE_MSG)\n"
     ]
    },
    {
     "data": {
      "text/html": [
       "<div>\n",
       "<style scoped>\n",
       "    .dataframe tbody tr th:only-of-type {\n",
       "        vertical-align: middle;\n",
       "    }\n",
       "\n",
       "    .dataframe tbody tr th {\n",
       "        vertical-align: top;\n",
       "    }\n",
       "\n",
       "    .dataframe thead th {\n",
       "        text-align: right;\n",
       "    }\n",
       "</style>\n",
       "<table border=\"1\" class=\"dataframe\">\n",
       "  <thead>\n",
       "    <tr style=\"text-align: right;\">\n",
       "      <th></th>\n",
       "      <th>Algorithm</th>\n",
       "      <th>Accuracy</th>\n",
       "      <th>F1 Score</th>\n",
       "      <th>AUC_test</th>\n",
       "      <th>AUC_train</th>\n",
       "      <th>Recall</th>\n",
       "    </tr>\n",
       "  </thead>\n",
       "  <tbody>\n",
       "    <tr>\n",
       "      <th>0</th>\n",
       "      <td>RandomForestClassifier</td>\n",
       "      <td>0.730153</td>\n",
       "      <td>0.730153</td>\n",
       "      <td>0.691501</td>\n",
       "      <td>1.000000</td>\n",
       "      <td>0.730153</td>\n",
       "    </tr>\n",
       "    <tr>\n",
       "      <th>1</th>\n",
       "      <td>LogisticRegression</td>\n",
       "      <td>0.607336</td>\n",
       "      <td>0.607336</td>\n",
       "      <td>0.651366</td>\n",
       "      <td>0.841259</td>\n",
       "      <td>0.607336</td>\n",
       "    </tr>\n",
       "  </tbody>\n",
       "</table>\n",
       "</div>"
      ],
      "text/plain": [
       "                Algorithm  Accuracy  F1 Score  AUC_test  AUC_train    Recall\n",
       "0  RandomForestClassifier  0.730153  0.730153  0.691501   1.000000  0.730153\n",
       "1      LogisticRegression  0.607336  0.607336  0.651366   0.841259  0.607336"
      ]
     },
     "execution_count": 43,
     "metadata": {},
     "output_type": "execute_result"
    }
   ],
   "source": [
    "ml = train(alg,X_train,X_test,y_train, y_test)\n",
    "ml"
   ]
  },
  {
   "cell_type": "markdown",
   "id": "190b957c",
   "metadata": {},
   "source": [
    "## NN"
   ]
  },
  {
   "cell_type": "code",
   "execution_count": 45,
   "id": "ea1e0c95",
   "metadata": {},
   "outputs": [],
   "source": [
    "# fully connected nn\n",
    "\n",
    "def build_model(learning_rate):\n",
    "    model = tf.keras.models.Sequential()\n",
    "    model.add(tf.keras.layers.Dense(units=100, activation=\"relu\", input_dim=540))  \n",
    "    model.add(tf.keras.layers.Dropout(0.5))\n",
    "    model.add(tf.keras.layers.Dense(4, activation='softmax'))\n",
    "    model.compile(optimizer=tf.keras.optimizers.Adam(learning_rate=learning_rate),\n",
    "                loss='categorical_crossentropy',\n",
    "                metrics=[tf.keras.metrics.AUC(name='auc'),\n",
    "                         tf.keras.metrics.Precision(name='precision'),\n",
    "                         tf.keras.metrics.Recall(name='recall'),\n",
    "                         tf.keras.metrics.AUC(name='prc', curve='PR')])\n",
    "\n",
    "    return model\n",
    "\n",
    "\n",
    "def train_model(model, feature, label, val_feature, val_label, epochs, batch_size):\n",
    "    es = EarlyStopping(monitor='val_prc', \n",
    "                                   mode='max', \n",
    "                                   patience=10,\n",
    "                                   restore_best_weights=True)\n",
    "    history = model.fit(x=feature,\n",
    "                      y=label,\n",
    "                      validation_data=(val_feature, val_label),\n",
    "                      callbacks=[es],\n",
    "                      batch_size=batch_size,\n",
    "                      epochs=epochs)\n",
    "    trained_weight = model.get_weights()[0]\n",
    "    trained_bias = model.get_weights()[1]\n",
    "\n",
    "    epochs = history.epoch\n",
    "    hist = pd.DataFrame(history.history)\n",
    "#     accuracy = hist[\"accuracy\"]\n",
    "#     val_accuracy = hist['val_accuracy']\n",
    "    return trained_weight, trained_bias, epochs, hist"
   ]
  },
  {
   "cell_type": "code",
   "execution_count": 46,
   "id": "af691314",
   "metadata": {},
   "outputs": [
    {
     "name": "stdout",
     "output_type": "stream",
     "text": [
      "Epoch 1/500\n",
      "2/2 [==============================] - 3s 828ms/step - loss: 1.8082 - auc: 0.5055 - precision: 0.2596 - recall: 0.1018 - prc: 0.2565 - val_loss: 1.7651 - val_auc: 0.4161 - val_precision: 0.0763 - val_recall: 0.0133 - val_prc: 0.2002\n",
      "Epoch 2/500\n",
      "2/2 [==============================] - 0s 97ms/step - loss: 1.7222 - auc: 0.5474 - precision: 0.3268 - recall: 0.1187 - prc: 0.2902 - val_loss: 1.6704 - val_auc: 0.5067 - val_precision: 0.1072 - val_recall: 0.0192 - val_prc: 0.2359\n",
      "Epoch 3/500\n",
      "2/2 [==============================] - 0s 93ms/step - loss: 1.6095 - auc: 0.5877 - precision: 0.3961 - recall: 0.1436 - prc: 0.3279 - val_loss: 1.5663 - val_auc: 0.5963 - val_precision: 0.1663 - val_recall: 0.0315 - val_prc: 0.2899\n",
      "Epoch 4/500\n",
      "2/2 [==============================] - 0s 93ms/step - loss: 1.5475 - auc: 0.6107 - precision: 0.4171 - recall: 0.1514 - prc: 0.3458 - val_loss: 1.4618 - val_auc: 0.6721 - val_precision: 0.2557 - val_recall: 0.0524 - val_prc: 0.3547\n",
      "Epoch 5/500\n",
      "2/2 [==============================] - 0s 88ms/step - loss: 1.4425 - auc: 0.6400 - precision: 0.4618 - recall: 0.1705 - prc: 0.3769 - val_loss: 1.3648 - val_auc: 0.7304 - val_precision: 0.3602 - val_recall: 0.0808 - val_prc: 0.4185\n",
      "Epoch 6/500\n",
      "2/2 [==============================] - 0s 91ms/step - loss: 1.3760 - auc: 0.6614 - precision: 0.4888 - recall: 0.1871 - prc: 0.3983 - val_loss: 1.2814 - val_auc: 0.7728 - val_precision: 0.4632 - val_recall: 0.1165 - val_prc: 0.4740\n",
      "Epoch 7/500\n",
      "2/2 [==============================] - 0s 90ms/step - loss: 1.3284 - auc: 0.6846 - precision: 0.5129 - recall: 0.2054 - prc: 0.4235 - val_loss: 1.2110 - val_auc: 0.8044 - val_precision: 0.5518 - val_recall: 0.1561 - val_prc: 0.5231\n",
      "Epoch 8/500\n",
      "2/2 [==============================] - 0s 92ms/step - loss: 1.3133 - auc: 0.6909 - precision: 0.5135 - recall: 0.2109 - prc: 0.4262 - val_loss: 1.1568 - val_auc: 0.8264 - val_precision: 0.6217 - val_recall: 0.1987 - val_prc: 0.5621\n",
      "Epoch 9/500\n",
      "2/2 [==============================] - 0s 89ms/step - loss: 1.2888 - auc: 0.7038 - precision: 0.5203 - recall: 0.2330 - prc: 0.4416 - val_loss: 1.1169 - val_auc: 0.8402 - val_precision: 0.6656 - val_recall: 0.2367 - val_prc: 0.5883\n",
      "Epoch 10/500\n",
      "2/2 [==============================] - 0s 87ms/step - loss: 1.2558 - auc: 0.7165 - precision: 0.5352 - recall: 0.2430 - prc: 0.4576 - val_loss: 1.0900 - val_auc: 0.8482 - val_precision: 0.6881 - val_recall: 0.2649 - val_prc: 0.6033\n",
      "Epoch 11/500\n",
      "2/2 [==============================] - 0s 86ms/step - loss: 1.2508 - auc: 0.7242 - precision: 0.5345 - recall: 0.2516 - prc: 0.4637 - val_loss: 1.0736 - val_auc: 0.8520 - val_precision: 0.6981 - val_recall: 0.2859 - val_prc: 0.6098\n",
      "Epoch 12/500\n",
      "2/2 [==============================] - 0s 89ms/step - loss: 1.2133 - auc: 0.7350 - precision: 0.5550 - recall: 0.2630 - prc: 0.4832 - val_loss: 1.0667 - val_auc: 0.8523 - val_precision: 0.7002 - val_recall: 0.2995 - val_prc: 0.6090\n",
      "Epoch 13/500\n",
      "2/2 [==============================] - 0s 88ms/step - loss: 1.2131 - auc: 0.7371 - precision: 0.5568 - recall: 0.2714 - prc: 0.4846 - val_loss: 1.0653 - val_auc: 0.8505 - val_precision: 0.6953 - val_recall: 0.3054 - val_prc: 0.6045\n",
      "Epoch 14/500\n",
      "2/2 [==============================] - 0s 87ms/step - loss: 1.1871 - auc: 0.7487 - precision: 0.5724 - recall: 0.2879 - prc: 0.5042 - val_loss: 1.0663 - val_auc: 0.8480 - val_precision: 0.6911 - val_recall: 0.3077 - val_prc: 0.5992\n",
      "Epoch 15/500\n",
      "2/2 [==============================] - 0s 88ms/step - loss: 1.1616 - auc: 0.7561 - precision: 0.5897 - recall: 0.2893 - prc: 0.5165 - val_loss: 1.0695 - val_auc: 0.8451 - val_precision: 0.6855 - val_recall: 0.3097 - val_prc: 0.5937\n",
      "Epoch 16/500\n",
      "2/2 [==============================] - 0s 86ms/step - loss: 1.1663 - auc: 0.7560 - precision: 0.5744 - recall: 0.2839 - prc: 0.5118 - val_loss: 1.0711 - val_auc: 0.8438 - val_precision: 0.6839 - val_recall: 0.3122 - val_prc: 0.5917\n",
      "Epoch 17/500\n",
      "2/2 [==============================] - 0s 85ms/step - loss: 1.1457 - auc: 0.7628 - precision: 0.5977 - recall: 0.2923 - prc: 0.5267 - val_loss: 1.0717 - val_auc: 0.8430 - val_precision: 0.6837 - val_recall: 0.3148 - val_prc: 0.5907\n",
      "Epoch 18/500\n",
      "2/2 [==============================] - 0s 88ms/step - loss: 1.1405 - auc: 0.7639 - precision: 0.5928 - recall: 0.2961 - prc: 0.5235 - val_loss: 1.0715 - val_auc: 0.8429 - val_precision: 0.6843 - val_recall: 0.3172 - val_prc: 0.5911\n",
      "Epoch 19/500\n",
      "2/2 [==============================] - 0s 87ms/step - loss: 1.1264 - auc: 0.7726 - precision: 0.6175 - recall: 0.3018 - prc: 0.5379 - val_loss: 1.0706 - val_auc: 0.8429 - val_precision: 0.6849 - val_recall: 0.3197 - val_prc: 0.5918\n",
      "Epoch 20/500\n",
      "2/2 [==============================] - 0s 84ms/step - loss: 1.1230 - auc: 0.7773 - precision: 0.6235 - recall: 0.3057 - prc: 0.5472 - val_loss: 1.0708 - val_auc: 0.8428 - val_precision: 0.6845 - val_recall: 0.3206 - val_prc: 0.5917\n",
      "Epoch 21/500\n",
      "2/2 [==============================] - 0s 85ms/step - loss: 1.1016 - auc: 0.7802 - precision: 0.6318 - recall: 0.3171 - prc: 0.5526 - val_loss: 1.0706 - val_auc: 0.8432 - val_precision: 0.6856 - val_recall: 0.3228 - val_prc: 0.5922\n"
     ]
    }
   ],
   "source": [
    "from keras.utils import np_utils\n",
    "learning_rate=0.001\n",
    "epochs=500\n",
    "my_batch_size=3000\n",
    "NN_base = build_model(learning_rate)\n",
    "dummy_y = np_utils.to_categorical(y_train)\n",
    "dummy_y_test = np_utils.to_categorical(y_test)\n",
    "trained_weight, trained_bias, epochs, hist = train_model(NN_base, X_train, dummy_y, X_test, dummy_y_test, epochs, my_batch_size)"
   ]
  },
  {
   "cell_type": "code",
   "execution_count": 47,
   "id": "c726d6e2",
   "metadata": {},
   "outputs": [
    {
     "name": "stdout",
     "output_type": "stream",
     "text": [
      "Model: \"sequential_1\"\n",
      "_________________________________________________________________\n",
      "Layer (type)                 Output Shape              Param #   \n",
      "=================================================================\n",
      "dense_2 (Dense)              (None, 100)               54100     \n",
      "_________________________________________________________________\n",
      "dropout_1 (Dropout)          (None, 100)               0         \n",
      "_________________________________________________________________\n",
      "dense_3 (Dense)              (None, 4)                 404       \n",
      "=================================================================\n",
      "Total params: 54,504\n",
      "Trainable params: 54,504\n",
      "Non-trainable params: 0\n",
      "_________________________________________________________________\n"
     ]
    }
   ],
   "source": [
    "NN_base.summary()"
   ]
  },
  {
   "cell_type": "code",
   "execution_count": 48,
   "id": "6d533dad",
   "metadata": {},
   "outputs": [],
   "source": [
    "def plot_the_model(label, prediction):\n",
    "    plt.xlabel(\"label\")\n",
    "    plt.ylabel(\"prediction\")\n",
    "    plt.scatter(label, prediction)\n",
    "    x0 = 0\n",
    "    x1 = np.minimum(label.max(),prediction.max())\n",
    "    plt.show()"
   ]
  },
  {
   "cell_type": "code",
   "execution_count": 49,
   "id": "c84e01d9",
   "metadata": {},
   "outputs": [],
   "source": [
    "def plot_the_loss(epochs, loss, val_loss):\n",
    "    plt.figure()\n",
    "    plt.xlabel(\"Epoch\")\n",
    "    plt.ylabel(\"Loss\")\n",
    "    plt.plot(epochs, loss, label='train_loss')\n",
    "    plt.plot(epochs, val_loss, label='validation_loss')\n",
    "    plt.legend()\n",
    "\n",
    "    plt.show()"
   ]
  },
  {
   "cell_type": "code",
   "execution_count": 50,
   "id": "62fc629f",
   "metadata": {},
   "outputs": [
    {
     "data": {
      "image/png": "[encoded data removed]",
      "text/plain": [
       "<Figure size 432x288 with 1 Axes>"
      ]
     },
     "metadata": {
      "needs_background": "light"
     },
     "output_type": "display_data"
    }
   ],
   "source": [
    "plot_the_model(dummy_y_test, NN_base.predict(X_test))"
   ]
  },
  {
   "cell_type": "code",
   "execution_count": 51,
   "id": "de4cad74",
   "metadata": {},
   "outputs": [
    {
     "data": {
      "image/png": "[encoded data removed]",
      "text/plain": [
       "<Figure size 432x288 with 1 Axes>"
      ]
     },
     "metadata": {
      "needs_background": "light"
     },
     "output_type": "display_data"
    }
   ],
   "source": [
    "plot_the_loss(epochs, hist['loss'], hist['val_loss'])"
   ]
  },
  {
   "cell_type": "code",
   "execution_count": 52,
   "id": "1626b353",
   "metadata": {},
   "outputs": [
    {
     "name": "stdout",
     "output_type": "stream",
     "text": [
      "1427/1427 [==============================] - 2s 1ms/step - loss: 1.0736 - auc: 0.8520 - precision: 0.6981 - recall: 0.2859 - prc: 0.6098\n"
     ]
    },
    {
     "data": {
      "text/plain": [
       "[1.0736271142959595,\n",
       " 0.8520203232765198,\n",
       " 0.6981485486030579,\n",
       " 0.2858864665031433,\n",
       " 0.6098001003265381]"
      ]
     },
     "execution_count": 52,
     "metadata": {},
     "output_type": "execute_result"
    }
   ],
   "source": [
    "NN_base.evaluate(X_test, dummy_y_test)"
   ]
  },
  {
   "cell_type": "code",
   "execution_count": 54,
   "id": "361909a6",
   "metadata": {},
   "outputs": [],
   "source": [
    "def plot_cm(labels, predictions):\n",
    "    cm = confusion_matrix(labels,predictions)\n",
    "    plt.figure(figsize=(5,5))\n",
    "    sns.heatmap(cm, annot=True, fmt=\"d\")\n",
    "    plt.title('Confusion matrix')\n",
    "    plt.ylabel('Actual label')\n",
    "    plt.xlabel('Predicted label')\n",
    "\n",
    "    print('Legitimate Transactions Detected (True Negatives): ', cm[0][0])\n",
    "    print('Legitimate Transactions Incorrectly Detected (False Positives): ', cm[0][1])\n",
    "    print('Fraudulent Transactions Missed (False Negatives): ', cm[1][0])\n",
    "    print('Fraudulent Transactions Detected (True Positives): ', cm[1][1])\n",
    "    print('Total Fraudulent Transactions: ', np.sum(cm[1]))"
   ]
  },
  {
   "cell_type": "code",
   "execution_count": 55,
   "id": "f30e4f26",
   "metadata": {},
   "outputs": [],
   "source": [
    "y_pred=NN_base.predict(X_test)\n",
    "classes_x = np.argmax(y_pred,axis=1)\n",
    "con_mat = tf.math.confusion_matrix(labels=y_test, predictions=classes_x).numpy()"
   ]
  },
  {
   "cell_type": "code",
   "execution_count": 56,
   "id": "c01bfe6e",
   "metadata": {},
   "outputs": [
    {
     "data": {
      "text/plain": [
       "array([[    1,     2,    10,    13],\n",
       "       [   10,    28,    65,   112],\n",
       "       [   11,    24,   211,   149],\n",
       "       [ 2064,  2485, 10432, 30020]], dtype=int32)"
      ]
     },
     "execution_count": 56,
     "metadata": {},
     "output_type": "execute_result"
    }
   ],
   "source": [
    "con_mat"
   ]
  },
  {
   "cell_type": "code",
   "execution_count": 57,
   "id": "008c5749",
   "metadata": {},
   "outputs": [
    {
     "name": "stdout",
     "output_type": "stream",
     "text": [
      "Legitimate Transactions Detected (True Negatives):  1\n",
      "Legitimate Transactions Incorrectly Detected (False Positives):  2\n",
      "Fraudulent Transactions Missed (False Negatives):  10\n",
      "Fraudulent Transactions Detected (True Positives):  28\n",
      "Total Fraudulent Transactions:  215\n"
     ]
    },
    {
     "data": {
      "image/png": "[encoded data removed]",
      "text/plain": [
       "<Figure size 360x360 with 2 Axes>"
      ]
     },
     "metadata": {
      "needs_background": "light"
     },
     "output_type": "display_data"
    }
   ],
   "source": [
    "plot_cm(y_test,classes_x)"
   ]
  },
  {
   "cell_type": "code",
   "execution_count": null,
   "id": "3fa8e3f4",
   "metadata": {},
   "outputs": [],
   "source": []
  },
  {
   "cell_type": "code",
   "execution_count": null,
   "id": "71034fc2",
   "metadata": {},
   "outputs": [],
   "source": []
  },
  {
   "cell_type": "code",
   "execution_count": null,
   "id": "6986ee79",
   "metadata": {},
   "outputs": [],
   "source": []
  },
  {
   "cell_type": "markdown",
   "id": "fc8bbaa8",
   "metadata": {},
   "source": [
    "## "
   ]
  },
  {
   "cell_type": "code",
   "execution_count": null,
   "id": "893c9139",
   "metadata": {},
   "outputs": [],
   "source": []
  },
  {
   "cell_type": "code",
   "execution_count": null,
   "id": "774bfed5",
   "metadata": {},
   "outputs": [],
   "source": []
  },
  {
   "cell_type": "code",
   "execution_count": null,
   "id": "897d12f3",
   "metadata": {},
   "outputs": [],
   "source": []
  },
  {
   "cell_type": "code",
   "execution_count": null,
   "id": "dd413073",
   "metadata": {},
   "outputs": [],
   "source": []
  },
  {
   "cell_type": "code",
   "execution_count": null,
   "id": "4b23266f",
   "metadata": {},
   "outputs": [],
   "source": []
  }
 ],
 "metadata": {
  "environment": {
   "name": "common-cpu.m75",
   "type": "gcloud",
   "uri": "gcr.io/deeplearning-platform-release/base-cpu:m75"
  },
  "kernelspec": {
   "display_name": "Python [conda env:root] *",
   "language": "python",
   "name": "conda-root-py"
  },
  "language_info": {
   "codemirror_mode": {
    "name": "ipython",
    "version": 3
   },
   "file_extension": ".py",
   "mimetype": "text/x-python",
   "name": "python",
   "nbconvert_exporter": "python",
   "pygments_lexer": "ipython3",
   "version": "3.7.10"
  }
 },
 "nbformat": 4,
 "nbformat_minor": 5
}
